{
 "cells": [
  {
   "cell_type": "code",
   "execution_count": 1,
   "id": "52cc8764",
   "metadata": {},
   "outputs": [
    {
     "name": "stdout",
     "output_type": "stream",
     "text": [
      "Requirement already satisfied: flask in c:\\users\\gurra\\anaconda3\\lib\\site-packages (1.1.2)\n",
      "Requirement already satisfied: Jinja2>=2.10.1 in c:\\users\\gurra\\anaconda3\\lib\\site-packages (from flask) (2.11.3)\n",
      "Requirement already satisfied: Werkzeug>=0.15 in c:\\users\\gurra\\anaconda3\\lib\\site-packages (from flask) (2.0.3)\n",
      "Requirement already satisfied: itsdangerous>=0.24 in c:\\users\\gurra\\anaconda3\\lib\\site-packages (from flask) (2.0.1)\n",
      "Requirement already satisfied: click>=5.1 in c:\\users\\gurra\\anaconda3\\lib\\site-packages (from flask) (8.0.4)\n",
      "Requirement already satisfied: colorama in c:\\users\\gurra\\anaconda3\\lib\\site-packages (from click>=5.1->flask) (0.4.5)\n",
      "Requirement already satisfied: MarkupSafe>=0.23 in c:\\users\\gurra\\anaconda3\\lib\\site-packages (from Jinja2>=2.10.1->flask) (2.0.1)\n",
      "Note: you may need to restart the kernel to use updated packages.\n"
     ]
    }
   ],
   "source": [
    "pip install flask\n"
   ]
  },
  {
   "cell_type": "code",
   "execution_count": 2,
   "id": "2c6a8ae6",
   "metadata": {},
   "outputs": [
    {
     "name": "stdout",
     "output_type": "stream",
     "text": [
      "Requirement already satisfied: gevent in c:\\users\\gurra\\anaconda3\\lib\\site-packages (23.7.0)\n",
      "Requirement already satisfied: cffi>=1.12.2 in c:\\users\\gurra\\anaconda3\\lib\\site-packages (from gevent) (1.15.1)\n",
      "Requirement already satisfied: zope.event in c:\\users\\gurra\\anaconda3\\lib\\site-packages (from gevent) (5.0)\n",
      "Requirement already satisfied: greenlet>=2.0.0 in c:\\users\\gurra\\anaconda3\\lib\\site-packages (from gevent) (2.0.2)\n",
      "Requirement already satisfied: zope.interface in c:\\users\\gurra\\anaconda3\\lib\\site-packages (from gevent) (5.4.0)\n",
      "Requirement already satisfied: pycparser in c:\\users\\gurra\\anaconda3\\lib\\site-packages (from cffi>=1.12.2->gevent) (2.21)\n",
      "Requirement already satisfied: setuptools in c:\\users\\gurra\\anaconda3\\lib\\site-packages (from zope.event->gevent) (63.4.1)\n",
      "Note: you may need to restart the kernel to use updated packages.\n"
     ]
    }
   ],
   "source": [
    "pip install gevent"
   ]
  },
  {
   "cell_type": "code",
   "execution_count": 1,
   "id": "3bd71c0a",
   "metadata": {},
   "outputs": [],
   "source": [
    "from flask import Flask, request, render_template\n",
    "import numpy as np\n",
    "\n",
    "import re\n",
    "import os\n",
    "from gevent.pywsgi import WSGIServer\n",
    "import requests as HTTP\n",
    "from bs4 import BeautifulSoup as SOUP"
   ]
  },
  {
   "cell_type": "code",
   "execution_count": null,
   "id": "6f771fe7",
   "metadata": {},
   "outputs": [
    {
     "name": "stdout",
     "output_type": "stream",
     "text": [
      " * Serving Flask app \"__main__\" (lazy loading)\n",
      " * Environment: production\n",
      "\u001b[31m   WARNING: This is a development server. Do not use it in a production deployment.\u001b[0m\n",
      "\u001b[2m   Use a production WSGI server instead.\u001b[0m\n",
      " * Debug mode: off\n"
     ]
    },
    {
     "name": "stderr",
     "output_type": "stream",
     "text": [
      " * Running on http://127.0.0.1:5000/ (Press CTRL+C to quit)\n",
      "127.0.0.1 - - [02/Aug/2023 22:17:08] \"GET / HTTP/1.1\" 200 -\n",
      "127.0.0.1 - - [02/Aug/2023 22:17:10] \"GET /favicon.ico HTTP/1.1\" 404 -\n",
      "127.0.0.1 - - [02/Aug/2023 22:17:10] \"GET /favicon.ico HTTP/1.1\" 404 -\n"
     ]
    },
    {
     "name": "stdout",
     "output_type": "stream",
     "text": [
      "Happy\n"
     ]
    },
    {
     "name": "stderr",
     "output_type": "stream",
     "text": [
      "127.0.0.1 - - [02/Aug/2023 22:27:03] \"POST /predict HTTP/1.1\" 200 -\n",
      "127.0.0.1 - - [02/Aug/2023 22:27:05] \"GET /favicon.ico HTTP/1.1\" 404 -\n",
      "127.0.0.1 - - [02/Aug/2023 22:27:05] \"GET /favicon.ico HTTP/1.1\" 404 -\n"
     ]
    }
   ],
   "source": [
    "#app = Flask(__name__)\n",
    "app=Flask(__name__,template_folder=\"templates\") \n",
    "\n",
    "\n",
    "@app.route('/',methods=['GET'])\n",
    "def index():\n",
    "    return render_template('home.html')\n",
    "\n",
    "@app.route('/home', methods=['GET'])\n",
    "def about():\n",
    "    return render_template('home.html')\n",
    "\n",
    "@app.route('/predict', methods=[\"GET\",\"POST\"])\n",
    "def predict():\n",
    "    #emotion=None\n",
    "    #urlhere='http://www.imdb.com/search/title?genres=drama&title_type=feature&sort=moviemeter, asc'\n",
    "    if request.method == \"POST\":\n",
    "        emotion=request.form['emotion']\n",
    "        print(emotion)\n",
    "    if(emotion == \"Happy\"):\n",
    "        urlhere = 'http://www.imdb.com/search/title?genres=drama&title_type=feature&sort=moviemeter, asc'\n",
    "    elif(emotion == \"Angry\"):\n",
    "        urlhere = 'http://www.imdb.com/search/title?genres=thriller&title_type=feature&sort=moviemeter, asc'\n",
    "    elif(emotion == \"Disgusting\"):\n",
    "        urlhere = 'http://www.imdb.com/search/title?genres=sport&title_type=feature&sort=moviemeter, asc'\n",
    "    elif(emotion == \"Thinking\"):\n",
    "        urlhere = 'http://www.imdb.com/search/title?genres=thriller&title_type=feature&sort=moviemeter, asc'\n",
    "    elif(emotion == \"Sad\"):\n",
    "        urlhere = 'http://www.imdb.com/search/title?genres=western&title_type=feature&sort=moviemeter, asc'\n",
    "    response = HTTP.get(urlhere)\n",
    "    data = response.content\n",
    "    soup = SOUP(data, \"lxml\")\n",
    "    supa = soup.find_all('h3', attrs={'class' : 'lister-item-header'})\n",
    "    list = []\n",
    "    \n",
    "    list.append([emotion])\n",
    "   \n",
    "    for header in supa:\n",
    "        name = \"\";   \n",
    "        aElement_soup = header.find_all('a')\n",
    "        spanElement_soup = header.find_all('span')\n",
    "        spanElement = spanElement_soup[0]\n",
    "        \n",
    "        name = name + spanElement.text\n",
    "       \n",
    "        aElement = aElement_soup[0]\n",
    "        link=aElement['href']\n",
    "\n",
    "        name = name + \"\" + aElement.text\n",
    "        if len(spanElement_soup)>1:\n",
    "            spanElement = spanElement_soup[1]\n",
    "            name = name + \" \" + spanElement.text\n",
    "        link=\"https://www.imdb.com/\"+link+\"?ref_=adv_li_tt\"\n",
    "        list.append([name,link])\n",
    "    \n",
    "    return render_template('home.html',prediction_text=\"{}\".format(emotion),data=list)\n",
    "\n",
    "if __name__ == \"__main__\":\n",
    "   app.run(debug=False) \n"
   ]
  },
  {
   "cell_type": "code",
   "execution_count": null,
   "id": "ad492a47",
   "metadata": {},
   "outputs": [],
   "source": [
    "\n"
   ]
  }
 ],
 "metadata": {
  "kernelspec": {
   "display_name": "Python 3 (ipykernel)",
   "language": "python",
   "name": "python3"
  },
  "language_info": {
   "codemirror_mode": {
    "name": "ipython",
    "version": 3
   },
   "file_extension": ".py",
   "mimetype": "text/x-python",
   "name": "python",
   "nbconvert_exporter": "python",
   "pygments_lexer": "ipython3",
   "version": "3.9.13"
  }
 },
 "nbformat": 4,
 "nbformat_minor": 5
}
